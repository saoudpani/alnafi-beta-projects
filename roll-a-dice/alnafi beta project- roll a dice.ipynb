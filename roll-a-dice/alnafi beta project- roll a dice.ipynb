{
 "cells": [
  {
   "cell_type": "code",
   "execution_count": 202,
   "metadata": {},
   "outputs": [
    {
     "data": {
      "image/png": "[encoded data removed]",
      "text/plain": [
       "<PIL.Image.Image image mode=RGBA size=131x136 at 0x7F8D2C66AE10>"
      ]
     },
     "metadata": {},
     "output_type": "display_data"
    },
    {
     "data": {
      "image/png": "[encoded data removed]",
      "text/plain": [
       "<PIL.Image.Image image mode=RGBA size=131x136 at 0x7F8D2C66A350>"
      ]
     },
     "metadata": {},
     "output_type": "display_data"
    },
    {
     "name": "stdout",
     "output_type": "stream",
     "text": [
      "Sum of two dices 1 + 1 = 2\n",
      "Probability of the sum of two dices is 2.78%\n",
      "Roll the dices again?j\n"
     ]
    }
   ],
   "source": [
    "#roll a dice\n",
    "import dice_ascii, random, os\n",
    "def pil_dice(img_number):\n",
    "    from PIL import Image, ImageDraw, ImageEnhance\n",
    "    from IPython.display import display\n",
    "\n",
    "    im = Image.open('dices.png')\n",
    "    enhancer = ImageEnhance.Sharpness(im)\n",
    "    im = enhancer.enhance(3)\n",
    "\n",
    "    # Here the image \"im\" is cropped and assigned to new variable im_crop\n",
    "    im_list = []\n",
    "    left, right = 0, 135\n",
    "    for d in range(1,7):\n",
    "        #img_file = 'dice'+str(d)+'.png'\n",
    "        single_dice = im.crop((4+left, 4, right*d, 140))\n",
    "        im_list.append(single_dice)\n",
    "    #     #save images one by one\n",
    "    #     if not os.path.exists('imgs'):\n",
    "    #         os.mkdir('imgs')\n",
    "    #     single_dice.save('imgs/'+img_file)\n",
    "        left+=133\n",
    "    try:\n",
    "        return display(im_list[img_number-1])\n",
    "    except:\n",
    "        print('six dices only')\n",
    "def show_dice_image(image):\n",
    "    try:\n",
    "        pil_dice(image)\n",
    "    except:\n",
    "        if image == 1: print(dice_ascii.d1)\n",
    "        elif image == 2: print(dice_ascii.d2)\n",
    "        elif image == 3: print(dice_ascii.d3)\n",
    "        elif image == 4: print(dice_ascii.d4)\n",
    "        elif image == 5: print(dice_ascii.d5)\n",
    "        elif image == 6: print(dice_ascii.d6)\n",
    "        else: print('six dice images only')\n",
    "            \n",
    "#calculate probability of sum of two fair dices rolled\n",
    "def probability_two_dices(total):\n",
    "    if any(x == total for x in (12,2)): return (1/36)*100\n",
    "    elif any(x == total for x in (11,3)): return (2/36)*100\n",
    "    elif any(x == total for x in (10,4)): return (3/36)*100\n",
    "    elif any(x == total for x in (9,5)): return (4/36)*100\n",
    "    elif any(x == total for x in (8,6)): return (5/36)*100\n",
    "    elif total == 7: return (6/36)*100 \n",
    "  \n",
    "\n",
    "#main game working code block\n",
    "def probability_of_two_dices(total):\n",
    "    if total == 12 or 1:\n",
    "        return (1/36)*100\n",
    "\n",
    "roll_again = \"yes\"\n",
    "while roll_again == \"yes\" or roll_again == \"y\":\n",
    "    rand1, rand2 = random.randint(1, 6), random.randint(1, 6)\n",
    "    total = rand1+rand2\n",
    "    prob = probability_two_dices(total)\n",
    "    show_dice_image(rand1)\n",
    "    show_dice_image(rand2)\n",
    "    print('Sum of two dices {} + {} = {}\\nProbability of the sum of two dices is {:.2f}%'.format(rand1,rand2,total,prob))\n",
    "    roll_again = input(\"Roll the dices again?\")\n",
    "    try:\n",
    "        from IPython.display import clear_output\n",
    "        clear_output(wait=True)\n",
    "    except:\n",
    "        # for windows \n",
    "        if os.name == 'nt': _ = os.system('cls') \n",
    "        # for mac and linux\n",
    "        else: _ = os.system('clear')"
   ]
  },
  {
   "cell_type": "code",
   "execution_count": 184,
   "metadata": {},
   "outputs": [],
   "source": [
    "dice_art = [\"\"\"\n",
    " _______\n",
    "|       |\n",
    "|   o   |\n",
    "|       |\n",
    " ======= \"\"\",\"\"\"\n",
    "  _______\n",
    "|       |\n",
    "|  o o  |\n",
    "|       |\n",
    " ======= \"\"\",\"\"\"\n",
    "  _______\n",
    "|     o |\n",
    "|   o   |\n",
    "| o     |\n",
    " ======= \"\"\",\"\"\"\n",
    "  _______\n",
    "| o   o |\n",
    "|       |\n",
    "| o   o |\n",
    " ======= \n",
    " \"\"\",\"\"\"\n",
    "  _______\n",
    "| o   o |\n",
    "|   o   |\n",
    "| o   o |\n",
    " ======= \n",
    " \"\"\",\"\"\"\n",
    "  _______\n",
    "| o o o |\n",
    "|       |\n",
    "| o o o |\n",
    " ======= \n",
    " \"\"\"]"
   ]
  },
  {
   "cell_type": "code",
   "execution_count": 200,
   "metadata": {},
   "outputs": [
    {
     "name": "stdout",
     "output_type": "stream",
     "text": [
      "     \n",
      " _______   _______   _______   _______   _______   _______\n",
      "|       | |       | |     o | | o   o | | o   o | | o o o |\n",
      "|   o   | |  o o  | |   o   | |       | |   o   | |       |\n",
      "|       | |       | | o     | | o   o | | o   o | | o o o |\n",
      " =======   =======   =======   =======   =======   ======= \n"
     ]
    }
   ],
   "source": [
    "art_split = [art.split(\"\\n\") for art in dice_art]\n",
    "zipped = zip(*art_split)\n",
    "\n",
    "for elems in zipped:\n",
    "    print(\" \".join(elems))"
   ]
  },
  {
   "cell_type": "code",
   "execution_count": null,
   "metadata": {},
   "outputs": [],
   "source": []
  }
 ],
 "metadata": {
  "kernelspec": {
   "display_name": "Python 3",
   "language": "python",
   "name": "python3"
  },
  "language_info": {
   "codemirror_mode": {
    "name": "ipython",
    "version": 3
   },
   "file_extension": ".py",
   "mimetype": "text/x-python",
   "name": "python",
   "nbconvert_exporter": "python",
   "pygments_lexer": "ipython3",
   "version": "3.7.6"
  }
 },
 "nbformat": 4,
 "nbformat_minor": 4
}
